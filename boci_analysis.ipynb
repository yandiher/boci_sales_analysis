{
 "cells": [
  {
   "cell_type": "markdown",
   "id": "b45de15e-f674-46bd-a7bb-1da1db27167c",
   "metadata": {},
   "source": [
    "# background\n",
    "\n",
    "BOCI (bakso aci) is a typical meatball made by starch. What make it interesting is not the _boci_ itself, it is because there are a lot of meatball types in one bowl but the name of the menu is _boci_. In Indonesia, there are lots of street seller tries to sell _boci_, especially in West Java and Jakarta. Because its popularity, one of my friends try to make profit of it by selling boci.\n",
    "\n",
    "When I ask, how much do you earn per day? he said, \"Not sure to answer it. Sometimes 60, sometimes 70, sometimes 85 when the street is crowded.\"\n",
    "\n",
    "\"And how do you choose how many portion do you prepare per day?\" I asked.\n",
    "\n",
    "\"I cannot answer it. Everyday I take IDR100K for my daily meals. And the rest of it is the capital for the next day.\"\n",
    "\n",
    "He sells _boci_ from monday to friday. He works as a freelancer on weekends.\n",
    "\n",
    "After discussion, I asked him to record the sales everyday for 90 days and include whether it is monday or else. I asked him also to see if the day he sells is raining or not. I have an intuition that there is something when it is raining. After 90 days, he gives me what he noted when he sold his _boci_.\n",
    "\n",
    "disclaimer: _this data is a full fake dataset. this dataset is build using numpy random distribution generator for educational purpose only._"
   ]
  },
  {
   "cell_type": "markdown",
   "id": "63c0590e-6dc6-4859-95f2-d6bb745ecf84",
   "metadata": {},
   "source": [
    "# library and dataset"
   ]
  },
  {
   "cell_type": "code",
   "execution_count": 24,
   "id": "574eb7cf-8be4-416b-88a2-b929bd44a35a",
   "metadata": {},
   "outputs": [],
   "source": [
    "import numpy as np\n",
    "import pandas as pd\n",
    "import matplotlib.pyplot as plt\n",
    "import seaborn as sns\n",
    "from scipy import stats as s"
   ]
  },
  {
   "cell_type": "code",
   "execution_count": 2,
   "id": "f580b950-ca42-4c7b-8bdb-2b72a11b9d68",
   "metadata": {},
   "outputs": [
    {
     "data": {
      "text/html": [
       "<div>\n",
       "<style scoped>\n",
       "    .dataframe tbody tr th:only-of-type {\n",
       "        vertical-align: middle;\n",
       "    }\n",
       "\n",
       "    .dataframe tbody tr th {\n",
       "        vertical-align: top;\n",
       "    }\n",
       "\n",
       "    .dataframe thead th {\n",
       "        text-align: right;\n",
       "    }\n",
       "</style>\n",
       "<table border=\"1\" class=\"dataframe\">\n",
       "  <thead>\n",
       "    <tr style=\"text-align: right;\">\n",
       "      <th></th>\n",
       "      <th>date</th>\n",
       "      <th>weather</th>\n",
       "      <th>day</th>\n",
       "      <th>sales</th>\n",
       "    </tr>\n",
       "  </thead>\n",
       "  <tbody>\n",
       "    <tr>\n",
       "      <th>0</th>\n",
       "      <td>2024-01-01</td>\n",
       "      <td>sunny</td>\n",
       "      <td>Monday</td>\n",
       "      <td>79.0</td>\n",
       "    </tr>\n",
       "    <tr>\n",
       "      <th>1</th>\n",
       "      <td>2024-01-02</td>\n",
       "      <td>rainy</td>\n",
       "      <td>Tuesday</td>\n",
       "      <td>80.0</td>\n",
       "    </tr>\n",
       "    <tr>\n",
       "      <th>2</th>\n",
       "      <td>2024-01-03</td>\n",
       "      <td>rainy</td>\n",
       "      <td>Wednesday</td>\n",
       "      <td>84.0</td>\n",
       "    </tr>\n",
       "    <tr>\n",
       "      <th>3</th>\n",
       "      <td>2024-01-04</td>\n",
       "      <td>rainy</td>\n",
       "      <td>Thursday</td>\n",
       "      <td>78.0</td>\n",
       "    </tr>\n",
       "    <tr>\n",
       "      <th>4</th>\n",
       "      <td>2024-01-05</td>\n",
       "      <td>sunny</td>\n",
       "      <td>Friday</td>\n",
       "      <td>83.0</td>\n",
       "    </tr>\n",
       "  </tbody>\n",
       "</table>\n",
       "</div>"
      ],
      "text/plain": [
       "         date weather        day  sales\n",
       "0  2024-01-01   sunny     Monday   79.0\n",
       "1  2024-01-02   rainy    Tuesday   80.0\n",
       "2  2024-01-03   rainy  Wednesday   84.0\n",
       "3  2024-01-04   rainy   Thursday   78.0\n",
       "4  2024-01-05   sunny     Friday   83.0"
      ]
     },
     "execution_count": 2,
     "metadata": {},
     "output_type": "execute_result"
    }
   ],
   "source": [
    "dataset = pd.read_csv('penjualan_boci.csv')\n",
    "dataset.drop(dataset.columns[0], axis=1, inplace=True)\n",
    "dataset.head()"
   ]
  },
  {
   "cell_type": "markdown",
   "id": "f443ec30-4131-431f-b95b-35eec08bc15c",
   "metadata": {},
   "source": [
    "# data cleaning"
   ]
  },
  {
   "cell_type": "code",
   "execution_count": 9,
   "id": "e9e23ce8-ef3e-4cb3-82c6-f67568f36fd9",
   "metadata": {},
   "outputs": [
    {
     "data": {
      "text/plain": [
       "weather    0\n",
       "day        0\n",
       "sales      0\n",
       "dtype: int64"
      ]
     },
     "execution_count": 9,
     "metadata": {},
     "output_type": "execute_result"
    }
   ],
   "source": [
    "dataset.isna().sum()"
   ]
  },
  {
   "cell_type": "markdown",
   "id": "fbbbdc0c-9ad4-404d-be19-928abd844938",
   "metadata": {},
   "source": [
    "there is no missing data. so we can continue."
   ]
  },
  {
   "cell_type": "code",
   "execution_count": 3,
   "id": "10230b15-78f7-456b-948d-d51ef9d37ba3",
   "metadata": {},
   "outputs": [
    {
     "name": "stdout",
     "output_type": "stream",
     "text": [
      "<class 'pandas.core.frame.DataFrame'>\n",
      "RangeIndex: 90 entries, 0 to 89\n",
      "Data columns (total 4 columns):\n",
      " #   Column   Non-Null Count  Dtype  \n",
      "---  ------   --------------  -----  \n",
      " 0   date     90 non-null     object \n",
      " 1   weather  90 non-null     object \n",
      " 2   day      90 non-null     object \n",
      " 3   sales    90 non-null     float64\n",
      "dtypes: float64(1), object(3)\n",
      "memory usage: 2.9+ KB\n"
     ]
    }
   ],
   "source": [
    "dataset.info()"
   ]
  },
  {
   "cell_type": "markdown",
   "id": "789c37e0-e55e-4839-b88e-b638c8921e1e",
   "metadata": {},
   "source": [
    "the column date is till object. it's better to convert into date and make it into our index."
   ]
  },
  {
   "cell_type": "code",
   "execution_count": 4,
   "id": "d0aed539-6e7b-45d5-9e2c-fc0ac880241a",
   "metadata": {},
   "outputs": [
    {
     "data": {
      "text/html": [
       "<div>\n",
       "<style scoped>\n",
       "    .dataframe tbody tr th:only-of-type {\n",
       "        vertical-align: middle;\n",
       "    }\n",
       "\n",
       "    .dataframe tbody tr th {\n",
       "        vertical-align: top;\n",
       "    }\n",
       "\n",
       "    .dataframe thead th {\n",
       "        text-align: right;\n",
       "    }\n",
       "</style>\n",
       "<table border=\"1\" class=\"dataframe\">\n",
       "  <thead>\n",
       "    <tr style=\"text-align: right;\">\n",
       "      <th></th>\n",
       "      <th>weather</th>\n",
       "      <th>day</th>\n",
       "      <th>sales</th>\n",
       "    </tr>\n",
       "    <tr>\n",
       "      <th>date</th>\n",
       "      <th></th>\n",
       "      <th></th>\n",
       "      <th></th>\n",
       "    </tr>\n",
       "  </thead>\n",
       "  <tbody>\n",
       "    <tr>\n",
       "      <th>2024-01-01</th>\n",
       "      <td>sunny</td>\n",
       "      <td>Monday</td>\n",
       "      <td>79.0</td>\n",
       "    </tr>\n",
       "    <tr>\n",
       "      <th>2024-01-02</th>\n",
       "      <td>rainy</td>\n",
       "      <td>Tuesday</td>\n",
       "      <td>80.0</td>\n",
       "    </tr>\n",
       "    <tr>\n",
       "      <th>2024-01-03</th>\n",
       "      <td>rainy</td>\n",
       "      <td>Wednesday</td>\n",
       "      <td>84.0</td>\n",
       "    </tr>\n",
       "    <tr>\n",
       "      <th>2024-01-04</th>\n",
       "      <td>rainy</td>\n",
       "      <td>Thursday</td>\n",
       "      <td>78.0</td>\n",
       "    </tr>\n",
       "    <tr>\n",
       "      <th>2024-01-05</th>\n",
       "      <td>sunny</td>\n",
       "      <td>Friday</td>\n",
       "      <td>83.0</td>\n",
       "    </tr>\n",
       "  </tbody>\n",
       "</table>\n",
       "</div>"
      ],
      "text/plain": [
       "           weather        day  sales\n",
       "date                                \n",
       "2024-01-01   sunny     Monday   79.0\n",
       "2024-01-02   rainy    Tuesday   80.0\n",
       "2024-01-03   rainy  Wednesday   84.0\n",
       "2024-01-04   rainy   Thursday   78.0\n",
       "2024-01-05   sunny     Friday   83.0"
      ]
     },
     "execution_count": 4,
     "metadata": {},
     "output_type": "execute_result"
    }
   ],
   "source": [
    "dataset.index = pd.to_datetime(dataset.date)\n",
    "dataset = dataset.drop(['date'], axis=1)\n",
    "dataset.head()"
   ]
  },
  {
   "cell_type": "markdown",
   "id": "d9f51394-af7e-4ad7-a4c5-57ac080fa617",
   "metadata": {},
   "source": [
    "it's nice now. let's find something interesting!"
   ]
  },
  {
   "cell_type": "markdown",
   "id": "b67423ac-b6f9-4e9f-afc2-b42c7ebdd822",
   "metadata": {},
   "source": [
    "# exploration data analysis"
   ]
  },
  {
   "cell_type": "code",
   "execution_count": 5,
   "id": "c95fd17b-b87f-4176-8922-b43eddde73ba",
   "metadata": {},
   "outputs": [
    {
     "name": "stdout",
     "output_type": "stream",
     "text": [
      "count        90\n",
      "unique        2\n",
      "top       rainy\n",
      "freq         46\n",
      "Name: weather, dtype: object\n"
     ]
    }
   ],
   "source": [
    "print(dataset['weather'].describe())"
   ]
  },
  {
   "cell_type": "markdown",
   "id": "51c10651-398c-47ce-a552-38c791035f7a",
   "metadata": {},
   "source": [
    "there are 90 records with two unique values. rain appears frequently 46 times."
   ]
  },
  {
   "cell_type": "code",
   "execution_count": 6,
   "id": "d86e1842-c509-42f0-a3e5-4824adf351e0",
   "metadata": {},
   "outputs": [
    {
     "name": "stdout",
     "output_type": "stream",
     "text": [
      "count         90\n",
      "unique         5\n",
      "top       Monday\n",
      "freq          18\n",
      "Name: day, dtype: object\n"
     ]
    }
   ],
   "source": [
    "print(dataset['day'].describe())"
   ]
  },
  {
   "cell_type": "markdown",
   "id": "88671032-35e4-4fdb-a055-564607d67835",
   "metadata": {},
   "source": [
    "i guess it is not relevant since he did not have off day."
   ]
  },
  {
   "cell_type": "code",
   "execution_count": 7,
   "id": "036c8a2d-88a8-4c9b-9f59-9d55f96bc5c4",
   "metadata": {},
   "outputs": [
    {
     "name": "stdout",
     "output_type": "stream",
     "text": [
      "count    90.000\n",
      "mean     79.311\n",
      "std       5.335\n",
      "min      68.000\n",
      "25%      76.000\n",
      "50%      79.000\n",
      "75%      83.000\n",
      "max      92.000\n",
      "Name: sales, dtype: float64\n"
     ]
    }
   ],
   "source": [
    "print(dataset['sales'].describe().round(3))"
   ]
  },
  {
   "cell_type": "markdown",
   "id": "79d43b4d-8dac-4570-bd88-5b851918e06a",
   "metadata": {},
   "source": [
    "so far, he can make it 68 portion or more per day. that is nice. the biggest achievement for him is selling 92 portion in a day. the 50% of sales lies between 76 and 83. the average is 79 and the center of sales lie on 79. i have a feeling that this sales follows gaussian distribution.\n",
    "\n",
    "let's visualize using boxplot to understand the data easily."
   ]
  },
  {
   "cell_type": "code",
   "execution_count": 8,
   "id": "96e0169f-7185-4867-9477-10c876fa00ae",
   "metadata": {},
   "outputs": [
    {
     "data": {
      "image/png": "[encoded data removed]",
      "text/plain": [
       "<Figure size 640x480 with 1 Axes>"
      ]
     },
     "metadata": {},
     "output_type": "display_data"
    }
   ],
   "source": [
    "sns.boxplot(x=dataset.sales)\n",
    "plt.title('boci sales in boxplot')\n",
    "plt.show()"
   ]
  },
  {
   "cell_type": "markdown",
   "id": "ec327303-7469-47a7-a8ca-e1274c94c19c",
   "metadata": {},
   "source": [
    "from the viz, we can see that the 50% of the data lies on the blue square."
   ]
  },
  {
   "cell_type": "code",
   "execution_count": 14,
   "id": "f2473f21-a0ba-4fe7-92b7-e01da1e91a0f",
   "metadata": {},
   "outputs": [
    {
     "data": {
      "image/png": "[encoded data removed]",
      "text/plain": [
       "<Figure size 640x480 with 1 Axes>"
      ]
     },
     "metadata": {},
     "output_type": "display_data"
    }
   ],
   "source": [
    "sns.histplot(dataset.sales, kde=True)\n",
    "plt.title('histogram of boci sales')\n",
    "plt.show()"
   ]
  },
  {
   "cell_type": "markdown",
   "id": "918060b8-0887-49cb-97de-cfd4c8d40c5c",
   "metadata": {},
   "source": [
    "outliers are data values which are extremely far from data distributin. there are two ways to see if there are otliers:\n",
    "1. from boxplot iqr\n",
    "2. from $3*std$ from the mean"
   ]
  },
  {
   "cell_type": "code",
   "execution_count": 44,
   "id": "668ff7cf-6e2f-4e51-90a0-d35a5ed5fda0",
   "metadata": {},
   "outputs": [],
   "source": [
    "min_value = dataset['sales'].min()\n",
    "max_value = dataset['sales'].max()\n",
    "std_value = dataset['sales'].std()\n",
    "mean_value = dataset['sales'].mean()\n",
    "q3 = np.percentile(dataset['sales'], 75)\n",
    "q1 = np.percentile(dataset['sales'], 25)\n",
    "iqr = q3-q1"
   ]
  },
  {
   "cell_type": "code",
   "execution_count": 52,
   "id": "77ec89da-3ecb-4e66-ba5e-a9bfa75590a2",
   "metadata": {},
   "outputs": [],
   "source": [
    "iqr_min_threshold = q1-(1.5*iqr)\n",
    "iqr_max_threshold = q3+(1.5*iqr)\n",
    "std_min_threshold = mean_value-(std_value*3)\n",
    "std_max_threshold = mean_value+(std_value*3)"
   ]
  },
  {
   "cell_type": "code",
   "execution_count": 49,
   "id": "ae66b9d0-076a-409a-92f0-31710dcba2ab",
   "metadata": {},
   "outputs": [],
   "source": [
    "def outliers_detection(value, threshold, check):\n",
    "    if check == 'min':\n",
    "        if value < threshold:\n",
    "            print(f\"there is ouliers detected in {check} value\")\n",
    "        else:\n",
    "            print(f\"there is no ouliers detected in {check} value\")\n",
    "    elif check == 'max':\n",
    "        if value > threshold:\n",
    "            print(f\"there is ouliers detected in {check} value\")\n",
    "        else:\n",
    "            print(f\"there is no ouliers detected in {check} value\")"
   ]
  },
  {
   "cell_type": "code",
   "execution_count": 54,
   "id": "e92aef5e-3e48-49d1-a8b9-d61fe35d723f",
   "metadata": {},
   "outputs": [
    {
     "name": "stdout",
     "output_type": "stream",
     "text": [
      "outliers from iqr\n",
      "there is no ouliers detected in min value\n",
      "there is no ouliers detected in max value\n",
      "\n",
      "outliers from std\n",
      "there is no ouliers detected in min value\n",
      "there is no ouliers detected in max value\n"
     ]
    }
   ],
   "source": [
    "print('outliers from iqr')\n",
    "outliers_detection(min_value, iqr_min_threshold, check='min')\n",
    "outliers_detection(max_value, iqr_max_threshold, check='max')\n",
    "print(\"\")\n",
    "print('outliers from std')\n",
    "outliers_detection(min_value, std_min_threshold, check='min')\n",
    "outliers_detection(min_value, std_max_threshold, check='max')"
   ]
  },
  {
   "cell_type": "markdown",
   "id": "8b66d4c4-cdea-47dc-a32b-f77cffce482a",
   "metadata": {},
   "source": []
  },
  {
   "cell_type": "code",
   "execution_count": null,
   "id": "cb801870-9b6c-4161-9afb-60466ae4a49e",
   "metadata": {},
   "outputs": [],
   "source": []
  }
 ],
 "metadata": {
  "kernelspec": {
   "display_name": "Python 3 (ipykernel)",
   "language": "python",
   "name": "python3"
  },
  "language_info": {
   "codemirror_mode": {
    "name": "ipython",
    "version": 3
   },
   "file_extension": ".py",
   "mimetype": "text/x-python",
   "name": "python",
   "nbconvert_exporter": "python",
   "pygments_lexer": "ipython3",
   "version": "3.11.2"
  }
 },
 "nbformat": 4,
 "nbformat_minor": 5
}
