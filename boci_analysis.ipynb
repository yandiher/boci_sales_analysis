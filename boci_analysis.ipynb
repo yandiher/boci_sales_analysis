{
 "cells": [
  {
   "cell_type": "markdown",
   "id": "b45de15e-f674-46bd-a7bb-1da1db27167c",
   "metadata": {},
   "source": [
    "# background\n",
    "\n",
    "BOCI (bakso aci) is a typical meatball made by starch. What make it interesting is not the _boci_ itself, it is because there are a lot of meatball types in one bowl but the name of the menu is _boci_. In Indonesia, there are lots of street seller tries to sell _boci_, especially in West Java and Jakarta. Because its popularity, one of my friends try to make profit of it by selling boci.\n",
    "\n",
    "When I ask, how much do you earn per day? he said, \"Not sure to answer it. Sometimes 60, sometimes 70, sometimes 85 when the street is crowded.\"\n",
    "\n",
    "\"And how do you choose how many portion do you prepare per day?\" I asked.\n",
    "\n",
    "\"I cannot answer it. Everyday I take IDR100K for my daily meals. And the rest of it is the capital for the next day.\"\n",
    "\n",
    "He sells _boci_ from monday to friday. He works as a freelancer on weekends.\n",
    "\n",
    "After discussion, I asked him to record the sales everyday for 90 days and include whether it is monday or else. I asked him also to see if the day he sells is raining or not. I have an intuition that there is something when it is raining. After 90 days, he gives me what he noted when he sold his _boci_.\n",
    "\n",
    "disclaimer: _this data is a full fake dataset. this dataset is build using numpy random distribution generator for educational purpose only._"
   ]
  },
  {
   "cell_type": "markdown",
   "id": "63c0590e-6dc6-4859-95f2-d6bb745ecf84",
   "metadata": {},
   "source": [
    "# library and dataset"
   ]
  },
  {
   "cell_type": "code",
   "execution_count": 1,
   "id": "574eb7cf-8be4-416b-88a2-b929bd44a35a",
   "metadata": {},
   "outputs": [],
   "source": [
    "import numpy as np\n",
    "import pandas as pd\n",
    "import matplotlib.pyplot as plt\n",
    "import seaborn as sns\n",
    "from scipy import stats as s"
   ]
  },
  {
   "cell_type": "code",
   "execution_count": 2,
   "id": "f580b950-ca42-4c7b-8bdb-2b72a11b9d68",
   "metadata": {},
   "outputs": [
    {
     "data": {
      "text/html": [
       "<div>\n",
       "<style scoped>\n",
       "    .dataframe tbody tr th:only-of-type {\n",
       "        vertical-align: middle;\n",
       "    }\n",
       "\n",
       "    .dataframe tbody tr th {\n",
       "        vertical-align: top;\n",
       "    }\n",
       "\n",
       "    .dataframe thead th {\n",
       "        text-align: right;\n",
       "    }\n",
       "</style>\n",
       "<table border=\"1\" class=\"dataframe\">\n",
       "  <thead>\n",
       "    <tr style=\"text-align: right;\">\n",
       "      <th></th>\n",
       "      <th>date</th>\n",
       "      <th>weather</th>\n",
       "      <th>day</th>\n",
       "      <th>sales</th>\n",
       "    </tr>\n",
       "  </thead>\n",
       "  <tbody>\n",
       "    <tr>\n",
       "      <th>0</th>\n",
       "      <td>2024-01-01</td>\n",
       "      <td>sunny</td>\n",
       "      <td>Monday</td>\n",
       "      <td>79.0</td>\n",
       "    </tr>\n",
       "    <tr>\n",
       "      <th>1</th>\n",
       "      <td>2024-01-02</td>\n",
       "      <td>rainy</td>\n",
       "      <td>Tuesday</td>\n",
       "      <td>80.0</td>\n",
       "    </tr>\n",
       "    <tr>\n",
       "      <th>2</th>\n",
       "      <td>2024-01-03</td>\n",
       "      <td>rainy</td>\n",
       "      <td>Wednesday</td>\n",
       "      <td>84.0</td>\n",
       "    </tr>\n",
       "    <tr>\n",
       "      <th>3</th>\n",
       "      <td>2024-01-04</td>\n",
       "      <td>rainy</td>\n",
       "      <td>Thursday</td>\n",
       "      <td>78.0</td>\n",
       "    </tr>\n",
       "    <tr>\n",
       "      <th>4</th>\n",
       "      <td>2024-01-05</td>\n",
       "      <td>sunny</td>\n",
       "      <td>Friday</td>\n",
       "      <td>83.0</td>\n",
       "    </tr>\n",
       "  </tbody>\n",
       "</table>\n",
       "</div>"
      ],
      "text/plain": [
       "         date weather        day  sales\n",
       "0  2024-01-01   sunny     Monday   79.0\n",
       "1  2024-01-02   rainy    Tuesday   80.0\n",
       "2  2024-01-03   rainy  Wednesday   84.0\n",
       "3  2024-01-04   rainy   Thursday   78.0\n",
       "4  2024-01-05   sunny     Friday   83.0"
      ]
     },
     "execution_count": 2,
     "metadata": {},
     "output_type": "execute_result"
    }
   ],
   "source": [
    "dataset = pd.read_csv('penjualan_boci.csv')\n",
    "dataset.drop(dataset.columns[0], axis=1, inplace=True)\n",
    "dataset.head()"
   ]
  },
  {
   "cell_type": "markdown",
   "id": "f443ec30-4131-431f-b95b-35eec08bc15c",
   "metadata": {},
   "source": [
    "# data cleaning"
   ]
  },
  {
   "cell_type": "code",
   "execution_count": 3,
   "id": "e9e23ce8-ef3e-4cb3-82c6-f67568f36fd9",
   "metadata": {},
   "outputs": [
    {
     "data": {
      "text/plain": [
       "date       0\n",
       "weather    0\n",
       "day        0\n",
       "sales      0\n",
       "dtype: int64"
      ]
     },
     "execution_count": 3,
     "metadata": {},
     "output_type": "execute_result"
    }
   ],
   "source": [
    "dataset.isna().sum()"
   ]
  },
  {
   "cell_type": "markdown",
   "id": "fbbbdc0c-9ad4-404d-be19-928abd844938",
   "metadata": {},
   "source": [
    "there is no missing data. so we can continue."
   ]
  },
  {
   "cell_type": "code",
   "execution_count": 4,
   "id": "10230b15-78f7-456b-948d-d51ef9d37ba3",
   "metadata": {},
   "outputs": [
    {
     "name": "stdout",
     "output_type": "stream",
     "text": [
      "<class 'pandas.core.frame.DataFrame'>\n",
      "RangeIndex: 90 entries, 0 to 89\n",
      "Data columns (total 4 columns):\n",
      " #   Column   Non-Null Count  Dtype  \n",
      "---  ------   --------------  -----  \n",
      " 0   date     90 non-null     object \n",
      " 1   weather  90 non-null     object \n",
      " 2   day      90 non-null     object \n",
      " 3   sales    90 non-null     float64\n",
      "dtypes: float64(1), object(3)\n",
      "memory usage: 2.9+ KB\n"
     ]
    }
   ],
   "source": [
    "dataset.info()"
   ]
  },
  {
   "cell_type": "markdown",
   "id": "789c37e0-e55e-4839-b88e-b638c8921e1e",
   "metadata": {},
   "source": [
    "the column date is till object. it's better to convert into date and make it into our index."
   ]
  },
  {
   "cell_type": "code",
   "execution_count": 5,
   "id": "d0aed539-6e7b-45d5-9e2c-fc0ac880241a",
   "metadata": {},
   "outputs": [
    {
     "data": {
      "text/html": [
       "<div>\n",
       "<style scoped>\n",
       "    .dataframe tbody tr th:only-of-type {\n",
       "        vertical-align: middle;\n",
       "    }\n",
       "\n",
       "    .dataframe tbody tr th {\n",
       "        vertical-align: top;\n",
       "    }\n",
       "\n",
       "    .dataframe thead th {\n",
       "        text-align: right;\n",
       "    }\n",
       "</style>\n",
       "<table border=\"1\" class=\"dataframe\">\n",
       "  <thead>\n",
       "    <tr style=\"text-align: right;\">\n",
       "      <th></th>\n",
       "      <th>weather</th>\n",
       "      <th>day</th>\n",
       "      <th>sales</th>\n",
       "    </tr>\n",
       "    <tr>\n",
       "      <th>date</th>\n",
       "      <th></th>\n",
       "      <th></th>\n",
       "      <th></th>\n",
       "    </tr>\n",
       "  </thead>\n",
       "  <tbody>\n",
       "    <tr>\n",
       "      <th>2024-01-01</th>\n",
       "      <td>sunny</td>\n",
       "      <td>Monday</td>\n",
       "      <td>79.0</td>\n",
       "    </tr>\n",
       "    <tr>\n",
       "      <th>2024-01-02</th>\n",
       "      <td>rainy</td>\n",
       "      <td>Tuesday</td>\n",
       "      <td>80.0</td>\n",
       "    </tr>\n",
       "    <tr>\n",
       "      <th>2024-01-03</th>\n",
       "      <td>rainy</td>\n",
       "      <td>Wednesday</td>\n",
       "      <td>84.0</td>\n",
       "    </tr>\n",
       "    <tr>\n",
       "      <th>2024-01-04</th>\n",
       "      <td>rainy</td>\n",
       "      <td>Thursday</td>\n",
       "      <td>78.0</td>\n",
       "    </tr>\n",
       "    <tr>\n",
       "      <th>2024-01-05</th>\n",
       "      <td>sunny</td>\n",
       "      <td>Friday</td>\n",
       "      <td>83.0</td>\n",
       "    </tr>\n",
       "  </tbody>\n",
       "</table>\n",
       "</div>"
      ],
      "text/plain": [
       "           weather        day  sales\n",
       "date                                \n",
       "2024-01-01   sunny     Monday   79.0\n",
       "2024-01-02   rainy    Tuesday   80.0\n",
       "2024-01-03   rainy  Wednesday   84.0\n",
       "2024-01-04   rainy   Thursday   78.0\n",
       "2024-01-05   sunny     Friday   83.0"
      ]
     },
     "execution_count": 5,
     "metadata": {},
     "output_type": "execute_result"
    }
   ],
   "source": [
    "dataset.index = pd.to_datetime(dataset.date)\n",
    "dataset = dataset.drop(['date'], axis=1)\n",
    "dataset.head()"
   ]
  },
  {
   "cell_type": "markdown",
   "id": "d9f51394-af7e-4ad7-a4c5-57ac080fa617",
   "metadata": {},
   "source": [
    "it's nice now. let's find something interesting!"
   ]
  },
  {
   "cell_type": "markdown",
   "id": "b67423ac-b6f9-4e9f-afc2-b42c7ebdd822",
   "metadata": {},
   "source": [
    "# exploration data analysis"
   ]
  },
  {
   "cell_type": "markdown",
   "id": "955eef71-2f51-4430-9e00-1da93c954bcc",
   "metadata": {},
   "source": [
    "## coding"
   ]
  },
  {
   "cell_type": "code",
   "execution_count": 6,
   "id": "c95fd17b-b87f-4176-8922-b43eddde73ba",
   "metadata": {},
   "outputs": [
    {
     "name": "stdout",
     "output_type": "stream",
     "text": [
      "count        90\n",
      "unique        2\n",
      "top       rainy\n",
      "freq         46\n",
      "Name: weather, dtype: object\n"
     ]
    }
   ],
   "source": [
    "print(dataset['weather'].describe())"
   ]
  },
  {
   "cell_type": "markdown",
   "id": "51c10651-398c-47ce-a552-38c791035f7a",
   "metadata": {},
   "source": [
    "there are 90 records with two unique values. rain appears frequently 46 times."
   ]
  },
  {
   "cell_type": "code",
   "execution_count": 7,
   "id": "d86e1842-c509-42f0-a3e5-4824adf351e0",
   "metadata": {},
   "outputs": [
    {
     "name": "stdout",
     "output_type": "stream",
     "text": [
      "count         90\n",
      "unique         5\n",
      "top       Monday\n",
      "freq          18\n",
      "Name: day, dtype: object\n"
     ]
    }
   ],
   "source": [
    "print(dataset['day'].describe())"
   ]
  },
  {
   "cell_type": "markdown",
   "id": "88671032-35e4-4fdb-a055-564607d67835",
   "metadata": {},
   "source": [
    "i guess it is not relevant since he did not have off day."
   ]
  },
  {
   "cell_type": "code",
   "execution_count": 8,
   "id": "036c8a2d-88a8-4c9b-9f59-9d55f96bc5c4",
   "metadata": {},
   "outputs": [
    {
     "name": "stdout",
     "output_type": "stream",
     "text": [
      "count    90.000\n",
      "mean     79.311\n",
      "std       5.335\n",
      "min      68.000\n",
      "25%      76.000\n",
      "50%      79.000\n",
      "75%      83.000\n",
      "max      92.000\n",
      "Name: sales, dtype: float64\n"
     ]
    }
   ],
   "source": [
    "print(dataset['sales'].describe().round(3))"
   ]
  },
  {
   "cell_type": "markdown",
   "id": "79d43b4d-8dac-4570-bd88-5b851918e06a",
   "metadata": {},
   "source": [
    "so far, he can make it 68 portion or more per day. that is nice. the biggest achievement for him is selling 92 portion in a day. the 50% of sales lies between 76 and 83. the average is 79 and the center of sales lie on 79. i have a feeling that this sales follows gaussian distribution.\n",
    "\n",
    "let's visualize using boxplot to understand the data easily."
   ]
  },
  {
   "cell_type": "code",
   "execution_count": 9,
   "id": "96e0169f-7185-4867-9477-10c876fa00ae",
   "metadata": {},
   "outputs": [
    {
     "data": {
      "image/png": "[encoded data removed]",
      "text/plain": [
       "<Figure size 640x480 with 1 Axes>"
      ]
     },
     "metadata": {},
     "output_type": "display_data"
    }
   ],
   "source": [
    "sns.boxplot(x=dataset.sales)\n",
    "plt.title('boci sales in boxplot')\n",
    "plt.show()"
   ]
  },
  {
   "cell_type": "markdown",
   "id": "ec327303-7469-47a7-a8ca-e1274c94c19c",
   "metadata": {},
   "source": [
    "from the viz, we can see that the 50% of the data lies on the blue square."
   ]
  },
  {
   "cell_type": "code",
   "execution_count": 10,
   "id": "f2473f21-a0ba-4fe7-92b7-e01da1e91a0f",
   "metadata": {},
   "outputs": [
    {
     "data": {
      "image/png": "[encoded data removed]",
      "text/plain": [
       "<Figure size 640x480 with 1 Axes>"
      ]
     },
     "metadata": {},
     "output_type": "display_data"
    }
   ],
   "source": [
    "sns.histplot(dataset.sales, kde=True)\n",
    "plt.title('histogram of boci sales')\n",
    "plt.show()"
   ]
  },
  {
   "cell_type": "markdown",
   "id": "918060b8-0887-49cb-97de-cfd4c8d40c5c",
   "metadata": {},
   "source": [
    "outliers are data values which are extremely far from data distributin. there are two ways to see if there are otliers:\n",
    "1. from boxplot iqr\n",
    "2. from $3*std$ from the mean"
   ]
  },
  {
   "cell_type": "code",
   "execution_count": 11,
   "id": "668ff7cf-6e2f-4e51-90a0-d35a5ed5fda0",
   "metadata": {},
   "outputs": [],
   "source": [
    "min_value = dataset['sales'].min()\n",
    "max_value = dataset['sales'].max()\n",
    "std_value = dataset['sales'].std()\n",
    "mean_value = dataset['sales'].mean()\n",
    "q3 = np.percentile(dataset['sales'], 75)\n",
    "q1 = np.percentile(dataset['sales'], 25)\n",
    "iqr = q3-q1"
   ]
  },
  {
   "cell_type": "code",
   "execution_count": 12,
   "id": "77ec89da-3ecb-4e66-ba5e-a9bfa75590a2",
   "metadata": {},
   "outputs": [],
   "source": [
    "iqr_min_threshold = q1-(1.5*iqr)\n",
    "iqr_max_threshold = q3+(1.5*iqr)\n",
    "std_min_threshold = mean_value-(std_value*3)\n",
    "std_max_threshold = mean_value+(std_value*3)"
   ]
  },
  {
   "cell_type": "code",
   "execution_count": 13,
   "id": "ae66b9d0-076a-409a-92f0-31710dcba2ab",
   "metadata": {},
   "outputs": [],
   "source": [
    "def outliers_detection(value, threshold, check):\n",
    "    if check == 'min':\n",
    "        if value < threshold:\n",
    "            print(f\"there is ouliers detected in {check} value\")\n",
    "        else:\n",
    "            print(f\"there is no ouliers detected in {check} value\")\n",
    "    elif check == 'max':\n",
    "        if value > threshold:\n",
    "            print(f\"there is ouliers detected in {check} value\")\n",
    "        else:\n",
    "            print(f\"there is no ouliers detected in {check} value\")"
   ]
  },
  {
   "cell_type": "markdown",
   "id": "a4a7b5b7-422f-4fc9-98de-d982969167fc",
   "metadata": {},
   "source": [
    "print('outliers from iqr')\n",
    "outliers_detection(min_value, iqr_min_threshold, check='min')\n",
    "outliers_detection(max_value, iqr_max_threshold, check='max')\n",
    "print(\"\")\n",
    "print('outliers from std')\n",
    "outliers_detection(min_value, std_min_threshold, check='min')\n",
    "outliers_detection(min_value, std_max_threshold, check='max')"
   ]
  },
  {
   "cell_type": "markdown",
   "id": "e00e280e-20ba-4bf8-b343-ae443a6d022b",
   "metadata": {},
   "source": [
    "it means that there is no data values extremely different from the distribution."
   ]
  },
  {
   "cell_type": "code",
   "execution_count": 14,
   "id": "46392cc2-da96-4aec-8ea9-f5a808ad4753",
   "metadata": {},
   "outputs": [
    {
     "data": {
      "text/plain": [
       "(Mean(statistic=79.31111111111112, minmax=(78.19368372079686, 80.42853850142538)),\n",
       " Variance(statistic=29.118263090676876, minmax=(21.65406291572004, 39.09796977378829)),\n",
       " Std_dev(statistic=5.380650553108442, minmax=(4.653392624281777, 6.252836938045665)))"
      ]
     },
     "execution_count": 14,
     "metadata": {},
     "output_type": "execute_result"
    }
   ],
   "source": [
    "mean, var, std = s.bayes_mvs(data=dataset['sales'], alpha=0.95)\n",
    "s.bayes_mvs(data=dataset['sales'], alpha=0.95)"
   ]
  },
  {
   "cell_type": "markdown",
   "id": "7a7d7883-fc15-4171-8323-b79b36ad22bc",
   "metadata": {},
   "source": [
    "## findings"
   ]
  },
  {
   "cell_type": "code",
   "execution_count": 15,
   "id": "6d398ebf-97d8-450a-99f3-62a48b274453",
   "metadata": {},
   "outputs": [
    {
     "name": "stdout",
     "output_type": "stream",
     "text": [
      "based on boxplot, 50% of sales lies between 76.0 and 83.0.\n"
     ]
    }
   ],
   "source": [
    "print(f\"based on boxplot, 50% of sales lies between {q1} and {q3}.\")"
   ]
  },
  {
   "cell_type": "code",
   "execution_count": 16,
   "id": "87cbf762-6610-4b73-a10d-4ad689903542",
   "metadata": {},
   "outputs": [
    {
     "name": "stdout",
     "output_type": "stream",
     "text": [
      "based on empirical rule, 68% of sales lies between 73.97595224750873 and 84.6462699747135.\n"
     ]
    }
   ],
   "source": [
    "print(f\"based on empirical rule, 68% of sales lies between {mean_value-std_value} and {mean_value+std_value}.\")"
   ]
  },
  {
   "cell_type": "markdown",
   "id": "6079146d-79fd-4be4-9c66-631adaf6a0d3",
   "metadata": {},
   "source": [
    "so now he understands how many portion he can prepare everyday."
   ]
  },
  {
   "cell_type": "code",
   "execution_count": 17,
   "id": "0540a766-c07a-4fb4-a159-691bccc18871",
   "metadata": {},
   "outputs": [
    {
     "name": "stdout",
     "output_type": "stream",
     "text": [
      "after 90 days of selling, he can describe that the average of selling boci is 79.31111111111112.\n",
      "and he is 95% confident that when he collects more data, the average will lie between 78.19368372079686 and 80.42853850142538.\n"
     ]
    }
   ],
   "source": [
    "print(f\"after 90 days of selling, he can describe that the average of selling boci is {mean_value}.\")\n",
    "print(f\"and he is 95% confident that when he collects more data, the average will lie between {mean[1][0]} and {mean[1][1]}.\")"
   ]
  },
  {
   "cell_type": "markdown",
   "id": "f3dec996-6709-49da-aead-ac4ac95d16d6",
   "metadata": {},
   "source": [
    "# hypothesis testing"
   ]
  },
  {
   "cell_type": "markdown",
   "id": "e8cd025e-2d20-4b11-aab1-4d40712c1465",
   "metadata": {},
   "source": [
    "Bogor, Indonesia is famous with the rain. it's the reason Bogor is called rain city. when the rain comes, I always try to find gravy food and _boci_ is one of them. so I think that there is the difference between rainy and sunny to _boci_ sales. let's conduct our a/b testing."
   ]
  },
  {
   "cell_type": "markdown",
   "id": "8e4fddbc-be3c-484d-becb-d691938641b5",
   "metadata": {},
   "source": [
    "let's declare the hypothesis.\n",
    "\n",
    "$mathematical:$\n",
    "\n",
    "$H_0: \\mu_0 = \\mu_1$\n",
    "\n",
    "$H_1: \\mu_0 \\neq \\mu_1$\n",
    "\n",
    "$conceptual:$\n",
    "\n",
    "$H_0:$ there is no significant difference between a and b.\n",
    "\n",
    "$H_1:$ there is significant difference between a and b."
   ]
  },
  {
   "cell_type": "markdown",
   "id": "a6875658-5678-4fd2-86ed-5725cc1066cc",
   "metadata": {},
   "source": [
    "## assumption check\n"
   ]
  },
  {
   "cell_type": "markdown",
   "id": "a3a44c89-7dd4-4ee6-9656-681cddb69774",
   "metadata": {},
   "source": [
    "to conduct a/b testing, I need to make sure this dataset follows this assumptions.\n",
    "1. [ ] dataset should be numeric.\n",
    "2. [ ] there are two groups to compare.\n",
    "3. [ ] the samples are independent.\n",
    "4. [ ] the data are normally distributed. if not, try mann whitney-u.\n",
    "5. [ ] the data has equal variance."
   ]
  },
  {
   "cell_type": "code",
   "execution_count": 18,
   "id": "32e0855b-2690-41d6-9661-f043801330ab",
   "metadata": {},
   "outputs": [
    {
     "name": "stdout",
     "output_type": "stream",
     "text": [
      "<class 'pandas.core.series.Series'>\n",
      "DatetimeIndex: 90 entries, 2024-01-01 to 2024-05-03\n",
      "Series name: sales\n",
      "Non-Null Count  Dtype  \n",
      "--------------  -----  \n",
      "90 non-null     float64\n",
      "dtypes: float64(1)\n",
      "memory usage: 1.4 KB\n"
     ]
    }
   ],
   "source": [
    "dataset['sales'].info()"
   ]
  },
  {
   "cell_type": "markdown",
   "id": "848bb7df-a7e6-45d5-b41a-288619bf38d1",
   "metadata": {},
   "source": [
    "we can see that the type of our dependent is float, which means numeric.\n",
    "1. [x] dataset should be numeric."
   ]
  },
  {
   "cell_type": "code",
   "execution_count": 19,
   "id": "d16cca64-5b58-42c7-ad79-86f3fcc7d906",
   "metadata": {},
   "outputs": [],
   "source": [
    "rainy = dataset[dataset['weather'] == 'rainy']['sales']\n",
    "sunny = dataset[dataset['weather'] == 'sunny']['sales']"
   ]
  },
  {
   "cell_type": "markdown",
   "id": "1952e266-8c35-4579-81db-6de245adc51e",
   "metadata": {},
   "source": [
    "I already seperate them into two groups: rainy and sunny.\n",
    "\n",
    "2. [x] there are two groups to compare."
   ]
  },
  {
   "cell_type": "code",
   "execution_count": 20,
   "id": "a13df967-232d-4a59-8de5-bff0d9a79375",
   "metadata": {},
   "outputs": [
    {
     "data": {
      "text/plain": [
       "False"
      ]
     },
     "execution_count": 20,
     "metadata": {},
     "output_type": "execute_result"
    }
   ],
   "source": [
    "dataset.index.has_duplicates"
   ]
  },
  {
   "cell_type": "markdown",
   "id": "2d0ca410-212c-4855-8bfe-3fc9fd941fcc",
   "metadata": {},
   "source": [
    "the data is not duplicated. it means he never recorded twice the same day. we can say that the sales values are independent.\n",
    "\n",
    "3. [x] the samples are independent."
   ]
  },
  {
   "cell_type": "code",
   "execution_count": 21,
   "id": "d61af918-fae4-4159-9d89-894993885495",
   "metadata": {},
   "outputs": [],
   "source": [
    "def gaussian_check(array):\n",
    "    stat, p = s.shapiro(array)\n",
    "    if p > 0.05:\n",
    "        print(f\"the data is normally distributed with p-value {p}.\")\n",
    "    else:\n",
    "        print(f\"the data is not normally distributed with p-value {p}.\")"
   ]
  },
  {
   "cell_type": "code",
   "execution_count": 22,
   "id": "01952e7c-919a-4e10-b706-15995b3b6581",
   "metadata": {},
   "outputs": [
    {
     "name": "stdout",
     "output_type": "stream",
     "text": [
      "the data is normally distributed with p-value 0.11649153579437865.\n",
      "the data is normally distributed with p-value 0.3865662022104624.\n"
     ]
    }
   ],
   "source": [
    "gaussian_check(sunny)\n",
    "gaussian_check(rainy)"
   ]
  },
  {
   "cell_type": "markdown",
   "id": "caad4bd7-a649-478e-acd6-4ff630acf0ee",
   "metadata": {},
   "source": [
    "if the p-value is smaller than $0.05$, we can reject gaussian. our p-values are bigger than $0.05$. it means we failed to reject gaussian. so, our data are normally distributed.\n",
    "\n",
    "4. [x] the data are normally distributed. if not, try mann whitney-u."
   ]
  },
  {
   "cell_type": "code",
   "execution_count": 23,
   "id": "f40341d7-7c1c-461c-ae6d-e8c15c2baeb2",
   "metadata": {},
   "outputs": [],
   "source": [
    "def variance_check(array_1, array_2):\n",
    "    stat, p = s.levene(array_1, array_2)\n",
    "    if p > 0.05:\n",
    "        print(f\"the data has equal variance with p-value {p}.\")\n",
    "    else:\n",
    "        print(f\"the data violates equal variance with p-value {p}.\")"
   ]
  },
  {
   "cell_type": "code",
   "execution_count": 24,
   "id": "1c958d24-19ab-47e8-ada3-5555984d5b0a",
   "metadata": {},
   "outputs": [
    {
     "name": "stdout",
     "output_type": "stream",
     "text": [
      "the data has equal variance with p-value 0.2188004442901671.\n"
     ]
    }
   ],
   "source": [
    "variance_check(sunny, rainy)"
   ]
  },
  {
   "cell_type": "markdown",
   "id": "0187d794-c0ec-44a5-93a7-9d30d9fb7b17",
   "metadata": {},
   "source": [
    "if the p-value is smaller than $0.05$, we can reject equal variance. our p-value is bigger than $0.05$ which means we failed to reject equal variance. so, our data has equal variance.\n",
    "\n",
    "5. [x] the data has equal variance."
   ]
  },
  {
   "cell_type": "markdown",
   "id": "dfc851b2-85a6-4650-877b-f046e096b6ec",
   "metadata": {},
   "source": [
    "## primary analysis"
   ]
  },
  {
   "cell_type": "code",
   "execution_count": 25,
   "id": "a571b8ab-938f-416e-8bb6-b139de956f64",
   "metadata": {},
   "outputs": [],
   "source": [
    "stat, p = s.ttest_ind(rainy, sunny)"
   ]
  },
  {
   "cell_type": "code",
   "execution_count": 26,
   "id": "e6747a5e-6d24-4ced-8387-1ee8d887aca8",
   "metadata": {},
   "outputs": [
    {
     "name": "stdout",
     "output_type": "stream",
     "text": [
      "there is significant difference between rainy and sunny with p-value 8.08519982507261e-06.\n"
     ]
    }
   ],
   "source": [
    "if p > 0.05:\n",
    "    print(f\"there is no significant difference between rainy and sunny with p-value {p}.\")\n",
    "else:\n",
    "    print(f\"there is significant difference between rainy and sunny with p-value {p}.\")"
   ]
  },
  {
   "cell_type": "markdown",
   "id": "b8cb6256-86dd-4d4e-9a70-a74b8dda7482",
   "metadata": {},
   "source": [
    "we can see that there is significant difference between rainy and sunny. I asked my friend to record whether the day is raining or not because I have an intuition that sales are bigger when day is raining. so we can conduct one sided testing."
   ]
  },
  {
   "cell_type": "markdown",
   "id": "bc0bfaaa-307d-4042-8051-48f61d9eb5d4",
   "metadata": {},
   "source": [
    "to conduct one-tail a/b testing, we use this equation:\n",
    "\n",
    "$H_0: \\mu_0 \\le \\mu_1$\n",
    "\n",
    "$H_1: \\mu_0 \\gt \\mu_1$\n",
    "\n",
    "in conceptual:\n",
    "\n",
    "$H_0:$ rainy performs sales less or equal to sunny.\n",
    "\n",
    "$H_1:$ rainy performs sales greater than sunny."
   ]
  },
  {
   "cell_type": "code",
   "execution_count": 27,
   "id": "41662a5f-1d1e-4d28-b379-db612d35f66d",
   "metadata": {},
   "outputs": [],
   "source": [
    "stat, p = s.ttest_ind(rainy, sunny, alternative='greater')"
   ]
  },
  {
   "cell_type": "code",
   "execution_count": 29,
   "id": "c4a16c97-b93a-4545-86b4-3803fcba05bb",
   "metadata": {},
   "outputs": [
    {
     "name": "stdout",
     "output_type": "stream",
     "text": [
      "we reject that he has more sales when the weather is sunny than rainy with p-value 4.042599912536305e-06.\n"
     ]
    }
   ],
   "source": [
    "if p > 0.05:\n",
    "    print(f\"we fail to reject that he has more sales when the weather is sunny than rainy with p-value {p}.\")\n",
    "else:\n",
    "    print(f\"we reject that he has more sales when the weather is sunny than rainy with p-value {p}.\")"
   ]
  },
  {
   "cell_type": "markdown",
   "id": "893a459d-8d67-4022-815c-5bc1035a8d4c",
   "metadata": {},
   "source": [
    "this is confusing. I know it but bear with me. I'll try to explain carefully so we can digest easily.\n",
    "\n",
    "it is easy to understand that my alternative hypothesis says that $H_1: \\mu_0 \\gt \\mu_1$ or rainy perform more sales than sunny. we can see that the p-value is extremely close to zero which means very often that if p-value is extremely close to zero, therefore we reject the null hypothesis. in other word, we reject that he has more sales when the weather is sunny than rainy with p-value $4.042599912536305e-06$.\n",
    "\n",
    "\n"
   ]
  },
  {
   "cell_type": "markdown",
   "id": "5f72e4f1-1a8f-409d-a376-afa5eac8fe10",
   "metadata": {},
   "source": [
    "but why the concept are different from the script?"
   ]
  },
  {
   "cell_type": "markdown",
   "id": "0c626086-a4ee-48d2-b5df-e4839140a531",
   "metadata": {},
   "source": [
    "the key is in the python script `stat, p = s.ttest_ind(rainy, sunny, alternative='greater')`.\n",
    "\n",
    "we see that the alternative parameter has argument 'greater'. it means that we have to adjust the alternative hypothesis or $H_1$ similar to argument needed. the python function is first variable is rainy, second variable is sunny, and the alternative is greater. the null hypothesis becomes `rainy is less or equal to sunny`."
   ]
  },
  {
   "cell_type": "markdown",
   "id": "4046e8b5-cd74-4f75-aaa7-0c28061bf84e",
   "metadata": {},
   "source": [
    "it is easier for me to write like this:\n",
    "\n",
    "~~~python\n",
    "if p > 0.05: # fail to reject null hypothesis\n",
    "    print(f\"rainy performs less or equal to sunny with p-value {p}.\")\n",
    "else: # reject null hyphotesis\n",
    "    print(f\"rainy performs greater than sunny with p-value {p}.\")\n",
    "~~~\n",
    "\n",
    "but I have to write either reject null hypothesis or fail to reject null hyphotesis."
   ]
  },
  {
   "cell_type": "markdown",
   "id": "0fc4c876-cc05-4410-be59-47dc8fdd0b51",
   "metadata": {},
   "source": [
    "what we need to understand is failing to reject that he has more sales when the weather is sunny than rainy ***equals to*** rainy performs less or equal to sunny. \n",
    "\n",
    "we reject that he has more sales when the weather is sunny than rainy ***equals to*** rainy performs greater than sunny."
   ]
  },
  {
   "cell_type": "code",
   "execution_count": 33,
   "id": "6c7fa46f-632c-493b-a834-9ac85e84ab4f",
   "metadata": {},
   "outputs": [],
   "source": [
    "rainy_mean = rainy.mean()\n",
    "sunny_mean = sunny.mean()"
   ]
  },
  {
   "cell_type": "markdown",
   "id": "c8fcaed2-0bcb-4a91-94e3-7737555d1425",
   "metadata": {},
   "source": [
    "now he knows, statistically, when the day is raining, he can sell _boci_ more."
   ]
  },
  {
   "cell_type": "code",
   "execution_count": 34,
   "id": "660e51c7-257a-418f-88d2-bae81d3602ff",
   "metadata": {},
   "outputs": [
    {
     "name": "stdout",
     "output_type": "stream",
     "text": [
      "it is statistically significant that rainy performs more sales than sunny.\n",
      "the average sales when it is rainy: 81.65217391304348.\n",
      "the average sales when it is sunny: 76.86363636363636.\n"
     ]
    }
   ],
   "source": [
    "print('it is statistically significant that rainy performs more sales than sunny.')\n",
    "print(f\"the average sales when it is rainy: {rainy_mean}.\")\n",
    "print(f\"the average sales when it is sunny: {sunny_mean}.\")"
   ]
  },
  {
   "cell_type": "raw",
   "id": "c0567eb5-c8eb-4e57-b87b-7d4623277071",
   "metadata": {},
   "source": []
  }
 ],
 "metadata": {
  "kernelspec": {
   "display_name": "Python 3 (ipykernel)",
   "language": "python",
   "name": "python3"
  },
  "language_info": {
   "codemirror_mode": {
    "name": "ipython",
    "version": 3
   },
   "file_extension": ".py",
   "mimetype": "text/x-python",
   "name": "python",
   "nbconvert_exporter": "python",
   "pygments_lexer": "ipython3",
   "version": "3.12.2"
  }
 },
 "nbformat": 4,
 "nbformat_minor": 5
}
